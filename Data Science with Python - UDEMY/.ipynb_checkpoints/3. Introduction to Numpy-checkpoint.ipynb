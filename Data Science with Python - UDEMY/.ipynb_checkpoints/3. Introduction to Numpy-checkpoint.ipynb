{
 "cells": [
  {
   "cell_type": "markdown",
   "metadata": {},
   "source": [
    "## 3.1 Introduction to Python\n",
    "\n",
    "- Python supports multi-dimensional arrays and matrices\n",
    " - n-dimensional arrays (ndarray)\n",
    "   - fast, efficient way of storing homogeneous data (data of the same type)\n",
    "   - 1-dimensional arrays AKA rank 1 arrays\n",
    " - Can have many rows and columns\n",
    " - Created using `np.array(List)` where \"`List`\" is just a normal python list\n",
    " \n",
    "- An array of Zeros can be created using `np.zeros(m, n)` where `m` and `n` are integer values representing the number of rows and columns to create\n",
    "- Similarly, create an array full of a number using `np.full((m,n), i)` where `i` is the number to fill the array\n",
    "- `np.eye(m,n)` creates an identity matrix"
   ]
  },
  {
   "cell_type": "code",
   "execution_count": 1,
   "metadata": {},
   "outputs": [],
   "source": [
    "import numpy as np"
   ]
  },
  {
   "cell_type": "code",
   "execution_count": 13,
   "metadata": {},
   "outputs": [
    {
     "data": {
      "text/plain": [
       "array([[1., 0.],\n",
       "       [0., 1.]])"
      ]
     },
     "execution_count": 13,
     "metadata": {},
     "output_type": "execute_result"
    }
   ],
   "source": [
    "# creating rank 1 arrays\n",
    "\n",
    "arr1 = [1, 2, 3, 4, 5, 6] # list\n",
    "nd_arr1 = np.array(arr1) # array\n",
    "\n",
    "# creating n-dimensional arrays\n",
    "arr2 = [[1, 2], [3,4]]\n",
    "nd_arr2 = np.array(arr2)\n",
    "\n",
    "# create array of zeros, array of 5s, and 2x2 identity matrix\n",
    "nd_zeros = np.zeros((2,2))\n",
    "nd_fives = np.full((2,2), 5)\n",
    "nd_eye = np.eye(2,2)\n",
    "nd_eye"
   ]
  },
  {
   "cell_type": "markdown",
   "metadata": {},
   "source": [
    "# 3.2 Numpy Operations\n",
    "\n",
    "### Python Indexing\n",
    "\n",
    "- Arrays index from 0 going left to right\n",
    "- Arrays index from -1 going right to left"
   ]
  },
  {
   "cell_type": "code",
   "execution_count": 14,
   "metadata": {},
   "outputs": [
    {
     "name": "stdout",
     "output_type": "stream",
     "text": [
      "1\n",
      "6\n"
     ]
    }
   ],
   "source": [
    "print(arr1[0]) # prints first element of arr1\n",
    "print(arr1[-1]) # prints last element of arr1\n"
   ]
  },
  {
   "cell_type": "markdown",
   "metadata": {},
   "source": [
    "---\n",
    "- Can isolate entire chunk of list using `[i:j]` indexing\n",
    " - jth index is non-inclusive\n",
    "   - e.g. `arr1[0:2]` will return `[1,2]`\n",
    "- Can also iterate in steps of k using `[i:j:k]` and use negative indices"
   ]
  },
  {
   "cell_type": "code",
   "execution_count": 18,
   "metadata": {},
   "outputs": [
    {
     "name": "stdout",
     "output_type": "stream",
     "text": [
      "[1 2]\n",
      "[1 3]\n",
      "[4 5]\n"
     ]
    }
   ],
   "source": [
    "print(nd_arr1[0:2]) \n",
    "print(nd_arr1[0:4:2]) # will not include index 4 (5)\n",
    "print(nd_arr1[-3:-1]) # prints last two digits"
   ]
  },
  {
   "cell_type": "markdown",
   "metadata": {},
   "source": [
    "---\n",
    "Two arrays can be concatenated together using `np.concatenate(arr_list)`"
   ]
  },
  {
   "cell_type": "code",
   "execution_count": 19,
   "metadata": {},
   "outputs": [
    {
     "data": {
      "text/plain": [
       "array([1, 2, 3, 4, 5, 6, 7, 8, 9])"
      ]
     },
     "execution_count": 19,
     "metadata": {},
     "output_type": "execute_result"
    }
   ],
   "source": [
    "nd_arr3 = np.array([7, 8, 9])\n",
    "np.concatenate([nd_arr1, nd_arr3])"
   ]
  },
  {
   "cell_type": "markdown",
   "metadata": {},
   "source": [
    "---\n",
    "- Indexing multi-dimensional array:\n",
    " - `ndarray[i, j]` will return row i, column j\n",
    " - `ndarray[i]` will return row i\n",
    "- Can replace value in an element by setting it equal to a ne w value\n",
    "- Can also index groups of an ndarray using the same technique as indexing blocks of 1d arrays\n",
    "- np.concatenate will default to concatenating rows\n",
    " - can using \"index\" argument to change this behaviour\n",
    " - Must have same number of columns"
   ]
  },
  {
   "cell_type": "code",
   "execution_count": 22,
   "metadata": {},
   "outputs": [
    {
     "name": "stdout",
     "output_type": "stream",
     "text": [
      "19\n",
      "[[ 1  2]\n",
      " [ 3 19]]\n"
     ]
    }
   ],
   "source": [
    "print(nd_arr2[1,1]) # prints element at position 1, 1\n",
    "nd_arr2[1,1] = 19 # replaces element at position 1, 1 with 19\n",
    "\n",
    "print(nd_arr2[0:2, 0:2]) # index chunk of nd array"
   ]
  },
  {
   "cell_type": "markdown",
   "metadata": {},
   "source": [
    "--- \n",
    "## Matrix Arithmetic and Linear Algebra\n",
    "\n",
    "- Linear Algebra provides structures such as\n",
    " - Vectors\n",
    "  - 1D data structures/rank 1 arrays\n",
    " - Matrices\n",
    "  - 2D tabular data\n",
    "- Both hold numerical data\n",
    "- Used in deep-learning, image processing\n",
    "\n",
    "\n",
    "\n",
    "- Vector addition and subtraction is done on an element-by-element basis:\n",
    "$$\n",
    "\\begin{pmatrix}\n",
    "1 \\\\ 2 \\\\ 3\n",
    "\\end{pmatrix}\n",
    "+\n",
    "\\begin{pmatrix}\n",
    "4 \\\\ 5 \\\\ 6\n",
    "\\end{pmatrix}\n",
    "=\n",
    "\\begin{pmatrix}\n",
    "5 \\\\ 7 \\\\ 9\n",
    "\\end{pmatrix}\n",
    "$$\n",
    "\n",
    "- Vector Multiplication can be either the dot or Hadamad product:\n",
    "  - dot:\n",
    "\n",
    "$$\n",
    "\\begin{pmatrix}\n",
    "a_1 \\\\ a_2\n",
    "\\end{pmatrix}\n",
    "\\bigodot\n",
    "\\begin{pmatrix}\n",
    "b_1 \\\\ b_2\n",
    "\\end{pmatrix}\n",
    "= a_1 b_1 + a_2 b_2\n",
    "$$\n",
    "-\n",
    "  - Hadamand\n",
    "$$\n",
    "\\begin{pmatrix}\n",
    "a_1 \\\\ a_2\n",
    "\\end{pmatrix}\n",
    "\\bigotimes\n",
    "\\begin{pmatrix}\n",
    "b_1 \\\\ b_2\n",
    "\\end{pmatrix}\n",
    "= \n",
    "\\begin{pmatrix}\n",
    "a_1 b_1 \\\\\n",
    "a_2 b_2\n",
    "\\end{pmatrix}\n",
    "$$\n",
    "\n",
    "---\n",
    "\n",
    "### Some Details on Matrix Arithmetic\n",
    "\n",
    "- Adding/Subtracting of matrices is done on an element by element basis\n",
    "\n",
    "- Multiplying by a scalar constant multiplies every element by that constant\n",
    "\n",
    "- Matrix by matrix multiplication is done by using the dot product (ignoring other products for now)\n",
    " - Dot product of each row of matrix A by some matrix B\n",
    "\n",
    "$$\n",
    "\\begin{pmatrix}\n",
    "a_1 & a_2 \\\\\n",
    "a_3 & a_4\n",
    "\\end{pmatrix}\n",
    "\\bigodot\n",
    "\\begin{pmatrix}\n",
    "b_1 & b_2 \\\\\n",
    "b_3 & b_4\n",
    "\\end{pmatrix}\n",
    "=\n",
    "\\begin{pmatrix}\n",
    "a_1 b_1 + a_2 b_3 & a_1 b_2 + a_2 b_4 \\\\\n",
    "a_3 b_1 + a_4 b_3 & a_3 b_2 + a_4 b_4\n",
    "\\end{pmatrix}\n",
    "$$\n",
    "\n",
    "- Matrix division is achieved by multiplying A by the inverse of B\n",
    "  - $A/B = AB^{-1}$\n",
    "  \n",
    "- Transpose of a matrix achieved by swapping rows and columns\n",
    "\n",
    "$$\n",
    "A=\n",
    "\\begin{pmatrix}\n",
    "a_1 & a_2 & a_3\\\\\n",
    "a_4 & a_5 & a_6\n",
    "\\end{pmatrix}\n",
    "$$\n",
    "$$\n",
    "A^T=\n",
    "\\begin{pmatrix}\n",
    "a_1 & a_4 \\\\\n",
    "a_2 & a_5 \\\\\n",
    "a_3 & a_6\n",
    "\\end{pmatrix}\n",
    "$$"
   ]
  },
  {
   "cell_type": "markdown",
   "metadata": {},
   "source": [
    "---\n",
    "## 3.4 Numpy for Basic Vector Addition\n",
    "\n",
    "- Simplest operation is addition\n",
    "  - Adding two 1D arrays will add element-by-element\n",
    "  - Adding a scalar will add it to each element"
   ]
  },
  {
   "cell_type": "code",
   "execution_count": 3,
   "metadata": {},
   "outputs": [
    {
     "name": "stdout",
     "output_type": "stream",
     "text": [
      "[5 7 9]\n",
      "[3 4 5]\n"
     ]
    }
   ],
   "source": [
    "x = np.array([1,2,3])\n",
    "y = np.array([4,5,6])\n",
    "\n",
    "print(x+y) # [5, 7, 9]\n",
    "print(x+2) # [3, 4, 5]"
   ]
  },
  {
   "cell_type": "markdown",
   "metadata": {},
   "source": [
    "---\n",
    "\n",
    "- Default multiplication is the Hadamar (element by element) product\n",
    "- numpy as an `np.dot(x, y)` function that returns the dot product of two vectors/matrices"
   ]
  },
  {
   "cell_type": "code",
   "execution_count": 6,
   "metadata": {},
   "outputs": [
    {
     "name": "stdout",
     "output_type": "stream",
     "text": [
      "Hadamar product: [ 4 10 18]\n",
      "dot product: 32\n"
     ]
    }
   ],
   "source": [
    "print(f'Hadamar product: {x*y}') #[4, 10, 18]\n",
    "print(f'dot product: {np.dot(x, y)}')"
   ]
  },
  {
   "cell_type": "markdown",
   "metadata": {},
   "source": [
    "---\n",
    "## 3.5 Numpy for basic Matrix Arithmetic\n",
    "\n",
    "- Numpy has a specific matrix class, created using `np.matrix(list_2d)` that takes a 2d list of lists as input.\n",
    "  - These are specifically 2D, as opposed to being n-dimensional ndarrays\n",
    "  - There are many matrix specific operations given by numpy"
   ]
  },
  {
   "cell_type": "code",
   "execution_count": 8,
   "metadata": {},
   "outputs": [
    {
     "name": "stdout",
     "output_type": "stream",
     "text": [
      "x_m:\n",
      " [[1 2]\n",
      " [3 4]]\n",
      "y_m:\n",
      " [[5 6]\n",
      " [7 8]]\n"
     ]
    }
   ],
   "source": [
    "x_m = np.matrix([[1,2],[3,4]])\n",
    "y_m = np.matrix([[5,6],[7,8]])\n",
    "\n",
    "print(f'x_m:\\n {x_m}')\n",
    "print(f'y_m:\\n {y_m}')"
   ]
  },
  {
   "cell_type": "markdown",
   "metadata": {},
   "source": [
    "---\n",
    "- Addition is the simplest, as it runs element-by-element\n",
    "  - Scalar addition will also add the scalar to each element\n",
    "- Scalar multiplication also multiplies all elements by the scalar"
   ]
  },
  {
   "cell_type": "code",
   "execution_count": 12,
   "metadata": {},
   "outputs": [
    {
     "name": "stdout",
     "output_type": "stream",
     "text": [
      "x_m + y_m:\n",
      "[[ 6  8]\n",
      " [10 12]]\n",
      "x_m + 2:\n",
      " [[3 4]\n",
      " [5 6]]\n",
      "\n",
      "Scalar multiplication, 2*x_m:\n",
      "[[2 4]\n",
      " [6 8]]\n"
     ]
    }
   ],
   "source": [
    "# matrix addition\n",
    "print(f'x_m + y_m:\\n{x_m+y_m}') # matrix + matrix\n",
    "print(f'x_m + 2:\\n {x_m + 2}\\n') # Scalar addition\n",
    "\n",
    "# matrix scalar multiplication\n",
    "print(f'Scalar multiplication, 2*x_m:\\n{x_m * 2}')"
   ]
  },
  {
   "cell_type": "markdown",
   "metadata": {},
   "source": [
    "---\n",
    "- Default matrix multiplication operation is Hadamar product\n",
    "- Element-by-Element multiplication is performed using `np.multiply(x, y)`, where `x` and `y` are both matrices"
   ]
  },
  {
   "cell_type": "code",
   "execution_count": 13,
   "metadata": {},
   "outputs": [
    {
     "name": "stdout",
     "output_type": "stream",
     "text": [
      "Hadamar x_m*y_m:\n",
      "[[19 22]\n",
      " [43 50]]\n",
      "Element wise:\n",
      "[[ 5 12]\n",
      " [21 32]]\n"
     ]
    }
   ],
   "source": [
    "# Hadamar product:\n",
    "print(f'Hadamar x_m*y_m:\\n{x_m * y_m}')\n",
    "\n",
    "# Element wise multiplication\n",
    "print(f'Element wise:\\n{np.multiply(x_m, y_m)}')"
   ]
  },
  {
   "cell_type": "markdown",
   "metadata": {},
   "source": [
    "---\n",
    "\n",
    "- The transpose of a matrix can be returned using the `T` property of the matrix"
   ]
  },
  {
   "cell_type": "code",
   "execution_count": 14,
   "metadata": {},
   "outputs": [
    {
     "name": "stdout",
     "output_type": "stream",
     "text": [
      "[[1 3]\n",
      " [2 4]]\n"
     ]
    }
   ],
   "source": [
    "print(x_m.T)"
   ]
  },
  {
   "cell_type": "markdown",
   "metadata": {},
   "source": [
    "---\n",
    "\n",
    "- The inverse of a matrix can be found easily using the `inv(x)` function of the `np.linalg` submodule"
   ]
  },
  {
   "cell_type": "code",
   "execution_count": 16,
   "metadata": {},
   "outputs": [
    {
     "name": "stdout",
     "output_type": "stream",
     "text": [
      "[[-2.   1. ]\n",
      " [ 1.5 -0.5]]\n"
     ]
    }
   ],
   "source": [
    "print(np.linalg.inv(x_m))"
   ]
  },
  {
   "cell_type": "markdown",
   "metadata": {},
   "source": [
    "---\n",
    "## 3.6 Broadcasting with Numpy\n",
    "\n",
    "- Arithmetic operations can be performed on different shaped arrays\n",
    "  - The smaller of the two arrays is \"broadcast\" across the larger array\n",
    "    - For this to work, the smaller array must have the same number of either rows or columns\n",
    "    - The lower dimension array must be a 1D array\n",
    "- E.g. Broadcasting a 1x3 array onto a 3x3 array:\n",
    "\n",
    "$$\n",
    "\\begin{pmatrix}\n",
    "1 & 2 & 3 \\\\\n",
    "4 & 5 & 6 \\\\\n",
    "7 & 8 & 9\n",
    "\\end{pmatrix}\n",
    "*\n",
    "\\begin{pmatrix}\n",
    "1 & 2 & 3 \\\\\n",
    "\\end{pmatrix}\n",
    "=\n",
    "\\begin{pmatrix}\n",
    "1 & 4 & 9 \\\\\n",
    "4 & 10 & 18 \\\\\n",
    "7 & 16 & 27\n",
    "\\end{pmatrix}\n",
    "$$\n",
    "\n",
    "- The single row is duplicated into a 3x3 array and multiplication carried out on an element-by-element basis"
   ]
  },
  {
   "cell_type": "code",
   "execution_count": 21,
   "metadata": {},
   "outputs": [],
   "source": [
    "z_m = np.matrix([[1,2,3], [4,5,6], [7,8,9]])\n",
    "z_a = np.array([1,2,3])"
   ]
  },
  {
   "cell_type": "markdown",
   "metadata": {},
   "source": [
    "---\n",
    "## 3. 7 Solving Equations with Numpy\n",
    "\n",
    "- Matrices can be used to represent systems of linear, scalar equations\n",
    "- E.g. $2x + 1 = 4\\\\x - y = -1$ can be represented by the two matrices\n",
    "\n",
    "$$\n",
    "A=\n",
    "\\begin{pmatrix}\n",
    "2 & 1 \\\\\n",
    "1 & -1 \n",
    "\\end{pmatrix}\n",
    "b =\n",
    "\\begin{pmatrix}\n",
    "4 & -1\n",
    "\\end{pmatrix}\n",
    "$$\n",
    "\n",
    "- These can then take the form\n",
    "\n",
    "$$\n",
    "\\begin{pmatrix}\n",
    "2 & 1 \\\\\n",
    "1 & -1 \n",
    "\\end{pmatrix}\n",
    "*\n",
    "\\begin{pmatrix}\n",
    "x \\\\ y\n",
    "\\end{pmatrix}\n",
    "=\n",
    "\\begin{pmatrix}\n",
    "4 \\\\ -1\n",
    "\\end{pmatrix}\n",
    "$$\n",
    "\n",
    "- And can be solved by taking \n",
    "$$\n",
    "\\begin{pmatrix}\n",
    "x \\\\ y\n",
    "\\end{pmatrix}\n",
    "=\n",
    "Ab^{-1}\n",
    "$$\n",
    "\n",
    "- This can be done using the `np.linalg.inv` function:"
   ]
  },
  {
   "cell_type": "code",
   "execution_count": 22,
   "metadata": {},
   "outputs": [
    {
     "data": {
      "text/plain": [
       "matrix([[1., 2.]])"
      ]
     },
     "execution_count": 22,
     "metadata": {},
     "output_type": "execute_result"
    }
   ],
   "source": [
    "A = np.matrix([[2, 1],[1,-1]])\n",
    "b = np.array([4, -1])\n",
    "\n",
    "# take the inverse of A\n",
    "A_inv = np.linalg.inv(A)\n",
    "\n",
    "# take the dot product with B\n",
    "np.dot(b, A_inv)"
   ]
  },
  {
   "cell_type": "markdown",
   "metadata": {},
   "source": [
    "---\n",
    "\n",
    "- Therefore, x = 1, y = 2\n",
    "- np.linalg also has a solve function that does exactly this"
   ]
  },
  {
   "cell_type": "code",
   "execution_count": 23,
   "metadata": {},
   "outputs": [
    {
     "data": {
      "text/plain": [
       "array([1., 2.])"
      ]
     },
     "execution_count": 23,
     "metadata": {},
     "output_type": "execute_result"
    }
   ],
   "source": [
    "np.linalg.solve(A,b)"
   ]
  },
  {
   "cell_type": "markdown",
   "metadata": {},
   "source": [
    "---\n",
    "\n",
    "## 3.8 Numpy for Statistical Operations\n",
    "\n",
    "- Numpy is the basis of many statistical packages\n",
    "  - therefore some familiarity with statistical functions is useful\n",
    "- Whole arrays can be summed using the `.sum()` method available to all ndarrays and matrices\n",
    "  - `narr.sum()`\n",
    "  - Can also sum across columns or across rows by using the axis keyword argument\n"
   ]
  },
  {
   "cell_type": "code",
   "execution_count": 27,
   "metadata": {},
   "outputs": [
    {
     "name": "stdout",
     "output_type": "stream",
     "text": [
      "sum of all elements in x: 6\n",
      "Sum of all columns in x_m: [[4 6]]\n",
      "Sum of all rows in x_m:\n",
      "[[3]\n",
      " [7]]\n"
     ]
    }
   ],
   "source": [
    "# Summing\n",
    "print(f'sum of all elements in x: {x.sum()}')\n",
    "print(f'Sum of all columns in x_m: {x_m.sum(axis = 0)}')\n",
    "print(f'Sum of all rows in x_m:\\n{x_m.sum(axis = 1)}')"
   ]
  },
  {
   "cell_type": "markdown",
   "metadata": {},
   "source": [
    "---\n",
    "\n",
    "- Other methods on arrays include mean, median, and standard deviation\n",
    "  - narr.mean() returns the mean of a matrix\n",
    "  - np.median() returns the median of a matrix\n",
    "  - narr.std() returns the standard deviation of a matrix\n",
    "  - Each of these methods also has an axis keyword"
   ]
  },
  {
   "cell_type": "code",
   "execution_count": 28,
   "metadata": {},
   "outputs": [
    {
     "name": "stdout",
     "output_type": "stream",
     "text": [
      "Mean of Z_m:\n",
      "5.0\n"
     ]
    },
    {
     "ename": "AttributeError",
     "evalue": "'matrix' object has no attribute 'median'",
     "output_type": "error",
     "traceback": [
      "\u001b[0;31m---------------------------------------------------------------------------\u001b[0m",
      "\u001b[0;31mAttributeError\u001b[0m                            Traceback (most recent call last)",
      "\u001b[0;32m/tmp/ipykernel_40483/1021135779.py\u001b[0m in \u001b[0;36m<module>\u001b[0;34m\u001b[0m\n\u001b[1;32m      1\u001b[0m \u001b[0;31m# Mean, median, std:\u001b[0m\u001b[0;34m\u001b[0m\u001b[0;34m\u001b[0m\u001b[0m\n\u001b[1;32m      2\u001b[0m \u001b[0mprint\u001b[0m\u001b[0;34m(\u001b[0m\u001b[0;34mf'Mean of Z_m:\\n{z_m.mean()}'\u001b[0m\u001b[0;34m)\u001b[0m\u001b[0;34m\u001b[0m\u001b[0;34m\u001b[0m\u001b[0m\n\u001b[0;32m----> 3\u001b[0;31m \u001b[0mprint\u001b[0m\u001b[0;34m(\u001b[0m\u001b[0;34mf'Median of Z_m:\\n{z_m.median()}'\u001b[0m\u001b[0;34m)\u001b[0m\u001b[0;34m\u001b[0m\u001b[0;34m\u001b[0m\u001b[0m\n\u001b[0m\u001b[1;32m      4\u001b[0m \u001b[0mprint\u001b[0m\u001b[0;34m(\u001b[0m\u001b[0;34mf'Standard deviation of Z_m:\\n{z_m.std()}'\u001b[0m\u001b[0;34m)\u001b[0m\u001b[0;34m\u001b[0m\u001b[0;34m\u001b[0m\u001b[0m\n",
      "\u001b[0;31mAttributeError\u001b[0m: 'matrix' object has no attribute 'median'"
     ]
    }
   ],
   "source": [
    "# Mean, median, std:\n",
    "print(f'Mean of Z_m:\\n{z_m.mean()}')\n",
    "print(f'Median of Z_m:\\n{z_m.median()}')\n",
    "print(f'Standard deviation of Z_m:\\n{z_m.std()}')"
   ]
  },
  {
   "cell_type": "code",
   "execution_count": null,
   "metadata": {},
   "outputs": [],
   "source": []
  }
 ],
 "metadata": {
  "kernelspec": {
   "display_name": "Python 3 (ipykernel)",
   "language": "python",
   "name": "python3"
  },
  "language_info": {
   "codemirror_mode": {
    "name": "ipython",
    "version": 3
   },
   "file_extension": ".py",
   "mimetype": "text/x-python",
   "name": "python",
   "nbconvert_exporter": "python",
   "pygments_lexer": "ipython3",
   "version": "3.10.4"
  }
 },
 "nbformat": 4,
 "nbformat_minor": 4
}
