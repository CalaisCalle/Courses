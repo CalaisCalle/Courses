{
 "cells": [
  {
   "cell_type": "markdown",
   "metadata": {},
   "source": [
    "## 3.1 Introduction to Python\n",
    "\n",
    "- Python supports multi-dimensional arrays and matrices\n",
    " - n-dimensional arrays (ndarray)\n",
    "   - fast, efficient way of storing homogeneous data (data of the same type)\n",
    "   - 1-dimensional arrays AKA rank 1 arrays\n",
    " - Can have many rows and columns\n",
    " - Created using `np.array(List)` where \"`List`\" is just a normal python list\n",
    " \n",
    "- An array of Zeros can be created using `np.zeros(m, n)` where `m` and `n` are integer values representing the number of rows and columns to create\n",
    "- Similarly, create an array full of a number using `np.full((m,n), i)` where `i` is the number to fill the array\n",
    "- `np.eye(m,n)` creates an identity matrix"
   ]
  },
  {
   "cell_type": "code",
   "execution_count": 1,
   "metadata": {},
   "outputs": [],
   "source": [
    "import numpy as np"
   ]
  },
  {
   "cell_type": "code",
   "execution_count": 13,
   "metadata": {},
   "outputs": [
    {
     "data": {
      "text/plain": [
       "array([[1., 0.],\n",
       "       [0., 1.]])"
      ]
     },
     "execution_count": 13,
     "metadata": {},
     "output_type": "execute_result"
    }
   ],
   "source": [
    "# creating rank 1 arrays\n",
    "\n",
    "arr1 = [1, 2, 3, 4, 5, 6] # list\n",
    "nd_arr1 = np.array(arr1) # array\n",
    "\n",
    "# creating n-dimensional arrays\n",
    "arr2 = [[1, 2], [3,4]]\n",
    "nd_arr2 = np.array(arr2)\n",
    "\n",
    "# create array of zeros, array of 5s, and 2x2 identity matrix\n",
    "nd_zeros = np.zeros((2,2))\n",
    "nd_fives = np.full((2,2), 5)\n",
    "nd_eye = np.eye(2,2)\n",
    "nd_eye"
   ]
  },
  {
   "cell_type": "markdown",
   "metadata": {},
   "source": [
    "# 3.2 Numpy Operations\n",
    "\n",
    "### Python Indexing\n",
    "\n",
    "- Arrays index from 0 going left to right\n",
    "- Arrays index from -1 going right to left"
   ]
  },
  {
   "cell_type": "code",
   "execution_count": 14,
   "metadata": {},
   "outputs": [
    {
     "name": "stdout",
     "output_type": "stream",
     "text": [
      "1\n",
      "6\n"
     ]
    }
   ],
   "source": [
    "print(arr1[0]) # prints first element of arr1\n",
    "print(arr1[-1]) # prints last element of arr1\n"
   ]
  },
  {
   "cell_type": "markdown",
   "metadata": {},
   "source": [
    "---\n",
    "- Can isolate entire chunk of list using `[i:j]` indexing\n",
    " - jth index is non-inclusive\n",
    "   - e.g. `arr1[0:2]` will return `[1,2]`\n",
    "- Can also iterate in steps of k using `[i:j:k]` and use negative indices"
   ]
  },
  {
   "cell_type": "code",
   "execution_count": 18,
   "metadata": {},
   "outputs": [
    {
     "name": "stdout",
     "output_type": "stream",
     "text": [
      "[1 2]\n",
      "[1 3]\n",
      "[4 5]\n"
     ]
    }
   ],
   "source": [
    "print(nd_arr1[0:2]) \n",
    "print(nd_arr1[0:4:2]) # will not include index 4 (5)\n",
    "print(nd_arr1[-3:-1]) # prints last two digits"
   ]
  },
  {
   "cell_type": "markdown",
   "metadata": {},
   "source": [
    "---\n",
    "Two arrays can be concatenated together using `np.concatenate(arr_list)`"
   ]
  },
  {
   "cell_type": "code",
   "execution_count": 19,
   "metadata": {},
   "outputs": [
    {
     "data": {
      "text/plain": [
       "array([1, 2, 3, 4, 5, 6, 7, 8, 9])"
      ]
     },
     "execution_count": 19,
     "metadata": {},
     "output_type": "execute_result"
    }
   ],
   "source": [
    "nd_arr3 = np.array([7, 8, 9])\n",
    "np.concatenate([nd_arr1, nd_arr3])"
   ]
  },
  {
   "cell_type": "markdown",
   "metadata": {},
   "source": [
    "---\n",
    "- Indexing multi-dimensional array:\n",
    " - `ndarray[i, j]` will return row i, column j\n",
    " - `ndarray[i]` will return row i\n",
    "- Can replace value in an element by setting it equal to a ne w value\n",
    "- Can also index groups of an ndarray using the same technique as indexing blocks of 1d arrays\n",
    "- np.concatenate will default to concatenating rows\n",
    " - can using \"index\" argument to change this behaviour\n",
    " - Must have same number of columns"
   ]
  },
  {
   "cell_type": "code",
   "execution_count": 22,
   "metadata": {},
   "outputs": [
    {
     "name": "stdout",
     "output_type": "stream",
     "text": [
      "19\n",
      "[[ 1  2]\n",
      " [ 3 19]]\n"
     ]
    }
   ],
   "source": [
    "print(nd_arr2[1,1]) # prints element at position 1, 1\n",
    "nd_arr2[1,1] = 19 # replaces element at position 1, 1 with 19\n",
    "\n",
    "print(nd_arr2[0:2, 0:2]) # index chunk of nd array"
   ]
  },
  {
   "cell_type": "markdown",
   "metadata": {},
   "source": [
    "--- \n",
    "## Matrix Arithmetic and Linear Algebra\n"
   ]
  },
  {
   "cell_type": "code",
   "execution_count": null,
   "metadata": {},
   "outputs": [],
   "source": []
  }
 ],
 "metadata": {
  "kernelspec": {
   "display_name": "Python 3",
   "language": "python",
   "name": "python3"
  },
  "language_info": {
   "codemirror_mode": {
    "name": "ipython",
    "version": 3
   },
   "file_extension": ".py",
   "mimetype": "text/x-python",
   "name": "python",
   "nbconvert_exporter": "python",
   "pygments_lexer": "ipython3",
   "version": "3.8.3"
  }
 },
 "nbformat": 4,
 "nbformat_minor": 4
}
