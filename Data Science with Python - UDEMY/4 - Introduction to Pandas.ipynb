{
 "cells": [
  {
   "cell_type": "markdown",
   "metadata": {},
   "source": [
    "## 4.1 Data structures in Python\n",
    "\n",
    "- Pandas is very important to Data SCience in Python\n",
    "  - Imported into python using `import pandas as pd`\n",
    "- Two major uses:\n",
    "  - Structure data in data frames\n",
    "  - Carry out tasks using data frames\n",
    "  \n",
    "- Pandas can take data from many different formats\n",
    "- 2 Data structures are key:\n",
    "  - Data Series\n",
    "    - 1D data\n",
    "  - Dataframe\n",
    "    - 2D tabular data\n",
    "    \n",
    "#### Data Series\n",
    "\n",
    "- 1D array of labelled data\n",
    "- Can turn dictionaries into data series using `pd.series(dict)`\n",
    "- Can also create seris using two lists\n",
    "  - First list corresponds to index, second index to the values\n",
    "  - e.g. `pd.series([1, 2, 'cat', 4], index = ['Amy', 'Bob', 'Cat', 'Dylan']"
   ]
  },
  {
   "cell_type": "code",
   "execution_count": 2,
   "metadata": {},
   "outputs": [],
   "source": [
    "import pandas as pd"
   ]
  },
  {
   "cell_type": "code",
   "execution_count": 4,
   "metadata": {},
   "outputs": [
    {
     "name": "stdout",
     "output_type": "stream",
     "text": [
      "Amy        1\n",
      "Bob        2\n",
      "Cat      cat\n",
      "Dylan      4\n",
      "dtype: object\n"
     ]
    }
   ],
   "source": [
    "# Turn a dictionary into a data series\n",
    "my_dict = {\n",
    "    'Amy': 1,\n",
    "    'Bob': 2,\n",
    "    'Cat': 'cat',\n",
    "    'Dylan': 4\n",
    "}\n",
    "\n",
    "pd_series = pd.Series(my_dict)\n",
    "print(pd_series)"
   ]
  },
  {
   "cell_type": "code",
   "execution_count": 5,
   "metadata": {},
   "outputs": [
    {
     "name": "stdout",
     "output_type": "stream",
     "text": [
      "Amy        1\n",
      "Bob        2\n",
      "Cat      cat\n",
      "Dylan      4\n",
      "dtype: object\n"
     ]
    }
   ],
   "source": [
    "# Turn a series of lists into a data series\n",
    "\n",
    "pd_series_l = pd.Series([1, 2, 'cat', 4], index = ['Amy', 'Bob', 'Cat', 'Dylan'])\n",
    "print(pd_series_l)"
   ]
  },
  {
   "cell_type": "markdown",
   "metadata": {},
   "source": [
    "---\n",
    "- `pd_series.loc()` is a label-location based index\n",
    "  - e.g. `pd_series.loc([1, 'cat'])\n",
    "- Can also index by lists of values\n",
    "  - e.g. `pd_series[[0,1]]`\n",
    "- Or by iloc, which indexes by integer\n",
    "  - e.g. `pd_series.iloc[2]`"
   ]
  },
  {
   "cell_type": "code",
   "execution_count": 9,
   "metadata": {},
   "outputs": [
    {
     "name": "stdout",
     "output_type": "stream",
     "text": [
      "Amy      1\n",
      "Cat    cat\n",
      "dtype: object\n",
      "Amy    1\n",
      "Bob    2\n",
      "dtype: object\n",
      "cat\n"
     ]
    }
   ],
   "source": [
    "# index by .loc\n",
    "print(pd_series.loc[['Amy', 'Cat']])\n",
    "\n",
    "# index by numbers:\n",
    "print(pd_series[[0,1]])\n",
    "\n",
    "# Index using iloc\n",
    "print(pd_series.iloc[2])"
   ]
  },
  {
   "cell_type": "markdown",
   "metadata": {},
   "source": [
    "---\n",
    "#### Data Frames\n",
    "\n",
    "- 2D data structure stores data in tabular form\n",
    "  - i.e. with rows/columns\n",
    "  \n",
    "- Can be created from dictionaries or series using `pd.DataFrame(input)`"
   ]
  },
  {
   "cell_type": "code",
   "execution_count": 10,
   "metadata": {},
   "outputs": [],
   "source": [
    "##"
   ]
  },
  {
   "cell_type": "markdown",
   "metadata": {},
   "source": [
    "---\n",
    "## 4.2 Read in CSV Data with Pandas"
   ]
  },
  {
   "cell_type": "code",
   "execution_count": null,
   "metadata": {},
   "outputs": [],
   "source": []
  },
  {
   "cell_type": "markdown",
   "metadata": {},
   "source": [
    "---\n",
    "\n",
    "## 4.3 Read in Excel Data with Pandas"
   ]
  },
  {
   "cell_type": "code",
   "execution_count": null,
   "metadata": {},
   "outputs": [],
   "source": []
  },
  {
   "cell_type": "markdown",
   "metadata": {},
   "source": [
    "## 4.4 Reading In JSON data"
   ]
  },
  {
   "cell_type": "code",
   "execution_count": null,
   "metadata": {},
   "outputs": [],
   "source": []
  },
  {
   "cell_type": "markdown",
   "metadata": {},
   "source": [
    "## 4.5 Reading data from HTML/webpages\n",
    "\n",
    "- Requires html5lib\n",
    "  - `import html5lib`\n",
    "  - Doesn't come packaged with Anaconda by default and must be installed\n",
    "    - Install in anaconda prompt using `conda install html5lib`"
   ]
  },
  {
   "cell_type": "code",
   "execution_count": 11,
   "metadata": {},
   "outputs": [],
   "source": [
    "import html5lib"
   ]
  },
  {
   "cell_type": "markdown",
   "metadata": {},
   "source": [
    "---\n",
    "\n",
    "- This is a form of basic web scraping\n",
    "  - Not the course focus, so not covered in great detail here\n",
    "- Read HTML using `pd.read_html(url)`\n",
    "  - Will return a list of dataframes"
   ]
  },
  {
   "cell_type": "code",
   "execution_count": null,
   "metadata": {},
   "outputs": [],
   "source": []
  }
 ],
 "metadata": {
  "kernelspec": {
   "display_name": "Python 3",
   "language": "python",
   "name": "python3"
  },
  "language_info": {
   "codemirror_mode": {
    "name": "ipython",
    "version": 3
   },
   "file_extension": ".py",
   "mimetype": "text/x-python",
   "name": "python",
   "nbconvert_exporter": "python",
   "pygments_lexer": "ipython3",
   "version": "3.8.3"
  }
 },
 "nbformat": 4,
 "nbformat_minor": 5
}
